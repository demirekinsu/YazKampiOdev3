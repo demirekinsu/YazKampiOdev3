{
 "cells": [
  {
   "cell_type": "code",
   "execution_count": 1,
   "id": "8f02a3e2-7937-4d9f-b050-1d1b4ddd7607",
   "metadata": {},
   "outputs": [],
   "source": [
    "kitaplar = [\n",
    "    {\"isim\": \"Veri Bilimi 101\", \"yazar\": \"Ali\", \"tur\": \"Bilim\", \"satis\": 1200, \"yil\": 2021},\n",
    "    {\"isim\": \"Python ile Yapay Zeka\", \"yazar\": \"Ayşe\", \"tur\": \"Bilim\", \"satis\": 950, \"yil\": 2020},\n",
    "    {\"isim\": \"İstatistik Temelleri\", \"yazar\": \"Ali\", \"tur\": \"Akademik\", \"satis\": 700, \"yil\": 2019},\n",
    "    {\"isim\": \"Makine Öğrenmesi\", \"yazar\": \"Can\", \"tur\": \"Bilim\", \"satis\": 1800, \"yil\": 2022},\n",
    "    {\"isim\": \"Veri Görselleştirme\", \"yazar\": \"Deniz\", \"tur\": \"Sanat\", \"satis\": 400, \"yil\": 2018},\n",
    "    {\"isim\": \"Matematiksel Modelleme\", \"yazar\": \"Ali\", \"tur\": \"Akademik\", \"satis\": 1500, \"yil\": 2021},\n",
    "    {\"isim\": \"Bilgi Toplumu\", \"yazar\": \"Ayşe\", \"tur\": \"Sosyal\", \"satis\": 600, \"yil\": 2022}\n",
    "]\n",
    "\n"
   ]
  },
  {
   "cell_type": "code",
   "execution_count": 3,
   "id": "2e7ff27d-3445-4803-8557-17fc707d84db",
   "metadata": {},
   "outputs": [],
   "source": [
    "# 1. Fonksiyonlar\n"
   ]
  },
  {
   "cell_type": "code",
   "execution_count": 9,
   "id": "47cb90ea-50c9-4a9e-83b2-60ad8fdbf5b7",
   "metadata": {},
   "outputs": [
    {
     "name": "stdout",
     "output_type": "stream",
     "text": [
      "En çok satan: {'isim': 'Makine Öğrenmesi', 'yazar': 'Can', 'tur': 'Bilim', 'satis': 1800, 'yil': 2022}\n",
      "Yazar satışları: {'Ali': 3400, 'Ayşe': 1550, 'Can': 1800, 'Deniz': 400}\n"
     ]
    }
   ],
   "source": [
    "def en_cok_satan(kitaplar):\n",
    "    return max(kitaplar, key=lambda k: k[\"satis\"])\n",
    "\n",
    "def yazar_satislari(kitaplar):\n",
    "    sonuc = {}\n",
    "    for k in kitaplar:\n",
    "        sonuc[k[\"yazar\"]] = sonuc.get(k[\"yazar\"], 0) + k[\"satis\"]\n",
    "    return sonuc\n",
    "\n",
    "print(\"En çok satan:\", en_cok_satan(kitaplar))\n",
    "print(\"Yazar satışları:\", yazar_satislari(kitaplar))"
   ]
  },
  {
   "cell_type": "code",
   "execution_count": 11,
   "id": "5acbc6f7-b501-4a80-97c4-bd410d0d6616",
   "metadata": {},
   "outputs": [],
   "source": [
    "# 2. Liste & Küme"
   ]
  },
  {
   "cell_type": "code",
   "execution_count": 13,
   "id": "7680baca-3e51-4360-965c-2d6d7e7e6358",
   "metadata": {},
   "outputs": [
    {
     "name": "stdout",
     "output_type": "stream",
     "text": [
      "Türler: {'Sanat', 'Sosyal', 'Akademik', 'Bilim'}\n",
      "1000 üstü satan: ['Veri Bilimi 101', 'Makine Öğrenmesi', 'Matematiksel Modelleme']\n"
     ]
    }
   ],
   "source": [
    "turler = set([k[\"tur\"] for k in kitaplar])\n",
    "print(\"Türler:\", turler)\n",
    "\n",
    "bin_ustu = [k[\"isim\"] for k in kitaplar if k[\"satis\"] > 1000]\n",
    "print(\"1000 üstü satan:\", bin_ustu)"
   ]
  },
  {
   "cell_type": "code",
   "execution_count": 15,
   "id": "6af9027b-097b-4ef7-9dab-e95e365bd51a",
   "metadata": {},
   "outputs": [],
   "source": [
    "# 3. Lambda / Filter / Map kullanımı"
   ]
  },
  {
   "cell_type": "code",
   "execution_count": 41,
   "id": "0c2a6f00-c5a0-485f-8155-5152ad044015",
   "metadata": {},
   "outputs": [
    {
     "name": "stdout",
     "output_type": "stream",
     "text": [
      "2020’den sonra çıkan kitaplar: ['Veri Bilimi 101', 'Makine Öğrenmesi', 'Matematiksel Modelleme', 'Bilgi Toplumu']\n"
     ]
    }
   ],
   "source": [
    "sonra_2020 = list(filter(lambda k: k[\"yil\"] > 2020, kitaplar))\n",
    "print(\"2020’den sonra çıkan kitaplar:\", [k[\"isim\"] for k in sonra_2020])\n"
   ]
  },
  {
   "cell_type": "code",
   "execution_count": 43,
   "id": "859d5487-b2a9-43b6-b167-16ab8831361f",
   "metadata": {},
   "outputs": [
    {
     "name": "stdout",
     "output_type": "stream",
     "text": [
      "Satışlar %10 artırılmış: [1320.0, 1045.0, 770.0000000000001, 1980.0000000000002, 440.00000000000006, 1650.0000000000002, 660.0]\n"
     ]
    }
   ],
   "source": [
    "arttirilmis_satislar = list(map(lambda k: k[\"satis\"] * 1.1, kitaplar))\n",
    "print(\"Satışlar %10 artırılmış:\", arttirilmis_satislar)\n"
   ]
  },
  {
   "cell_type": "code",
   "execution_count": 45,
   "id": "f37d8422-0d71-4503-99b7-07a7f72b3d67",
   "metadata": {},
   "outputs": [
    {
     "name": "stdout",
     "output_type": "stream",
     "text": [
      "Satışa göre sıralı kitaplar: ['Makine Öğrenmesi', 'Matematiksel Modelleme', 'Veri Bilimi 101', 'Python ile Yapay Zeka', 'İstatistik Temelleri', 'Bilgi Toplumu', 'Veri Görselleştirme']\n"
     ]
    }
   ],
   "source": [
    "sirali_kitaplar = sorted(kitaplar, key=lambda k: k[\"satis\"], reverse=True)\n",
    "print(\"Satışa göre sıralı kitaplar:\", [k[\"isim\"] for k in sirali_kitaplar])\n"
   ]
  },
  {
   "cell_type": "code",
   "execution_count": 19,
   "id": "8c7ec102-6f48-4a24-a23d-67f40eceae0b",
   "metadata": {},
   "outputs": [],
   "source": [
    "# 4. İstatistiksel Analiz"
   ]
  },
  {
   "cell_type": "code",
   "execution_count": 66,
   "id": "ef5ec77d-ea9b-4cc0-b5ce-eb885c52b82b",
   "metadata": {},
   "outputs": [
    {
     "name": "stdout",
     "output_type": "stream",
     "text": [
      "Ortalama satış: 1021.4\n",
      "En çok satış yapan tür: Bilim\n",
      "Standart sapma: 506.5\n"
     ]
    }
   ],
   "source": [
    "\n",
    "\n",
    "\n",
    "# Ortalama satış\n",
    "ortalama = statistics.mean([k[\"satis\"] for k in kitaplar])\n",
    "print(\"Ortalama satış:\", round(ortalama, 1))\n",
    "\n",
    "# En çok satış yapan tür\n",
    "turler = {k[\"tur\"] for k in kitaplar}\n",
    "en_cok_tur = max(turler, key=lambda t: sum(k[\"satis\"] for k in kitaplar if k[\"tur\"] == t))\n",
    "print(\"En çok satış yapan tür:\", en_cok_tur)\n",
    "\n",
    "# Satışların standart sapması\n",
    "std_sapma = statistics.stdev([k[\"satis\"] for k in kitaplar])\n",
    "print(\"Standart sapma:\", round(std_sapma, 1))\n"
   ]
  },
  {
   "cell_type": "code",
   "execution_count": 27,
   "id": "f5c61eb8-ef31-4623-92cb-b1f764378328",
   "metadata": {},
   "outputs": [],
   "source": [
    "# TRAİN/ TEST SİMÜLASYONU"
   ]
  },
  {
   "cell_type": "code",
   "execution_count": 52,
   "id": "78b767cb-2dad-4783-95d9-1a5f6f98875d",
   "metadata": {},
   "outputs": [],
   "source": [
    "import random\n",
    "import statistics\n",
    "\n",
    "kitaplar = [\n",
    "    {\"isim\": \"Veri Bilimi 101\", \"yazar\": \"Ali\", \"tur\": \"Bilim\", \"satis\": 1200, \"yil\": 2021},\n",
    "    {\"isim\": \"Python ile Yapay Zeka\", \"yazar\": \"Ayşe\", \"tur\": \"Bilim\", \"satis\": 950, \"yil\": 2020},\n",
    "    {\"isim\": \"İstatistik Temelleri\", \"yazar\": \"Ali\", \"tur\": \"Akademik\", \"satis\": 700, \"yil\": 2019},\n",
    "    {\"isim\": \"Makine Öğrenmesi\", \"yazar\": \"Can\", \"tur\": \"Bilim\", \"satis\": 1800, \"yil\": 2022},\n",
    "    {\"isim\": \"Veri Görselleştirme\", \"yazar\": \"Deniz\", \"tur\": \"Sanat\", \"satis\": 400, \"yil\": 2018},\n",
    "    {\"isim\": \"Matematiksel Modelleme\", \"yazar\": \"Ali\", \"tur\": \"Akademik\", \"satis\": 1500, \"yil\": 2021},\n",
    "    {\"isim\": \"Bilgi Toplumu\", \"yazar\": \"Ayşe\", \"tur\": \"Sosyal\", \"satis\": 600, \"yil\": 2022}\n",
    "]\n",
    "\n",
    "\n",
    "\n"
   ]
  },
  {
   "cell_type": "code",
   "execution_count": 60,
   "id": "7b4b7083-aef9-4d4b-8fae-cd2b28816226",
   "metadata": {},
   "outputs": [
    {
     "name": "stdout",
     "output_type": "stream",
     "text": [
      "Train set: ['Makine Öğrenmesi', 'İstatistik Temelleri', 'Bilgi Toplumu', 'Matematiksel Modelleme']\n",
      "Test set: ['Veri Bilimi 101', 'Python ile Yapay Zeka', 'Veri Görselleştirme']\n"
     ]
    }
   ],
   "source": [
    "# %70 train, %30 test ayırma\n",
    "train_size = int(len(kitaplar) * 0.7)\n",
    "train_set = random.sample(kitaplar, train_size)\n",
    "test_set = [k for k in kitaplar if k not in train_set]\n",
    "\n",
    "print(\"Train set:\", [k[\"isim\"] for k in train_set])\n",
    "print(\"Test set:\", [k[\"isim\"] for k in test_set])\n"
   ]
  },
  {
   "cell_type": "code",
   "execution_count": 62,
   "id": "c05795c1-1daf-4809-ba48-2bd42c8e29ea",
   "metadata": {},
   "outputs": [
    {
     "name": "stdout",
     "output_type": "stream",
     "text": [
      "Yazar ortalamaları (train): {'Can': 1800, 'Ali': 1100, 'Ayşe': 600}\n"
     ]
    }
   ],
   "source": [
    "\n",
    "# Train setinde yazarların ortalama satışını hesapla\n",
    "yazar_satis = {}\n",
    "for k in train_set:\n",
    "    if k[\"yazar\"] not in yazar_satis:\n",
    "        yazar_satis[k[\"yazar\"]] = []\n",
    "    yazar_satis[k[\"yazar\"]].append(k[\"satis\"])\n",
    "\n",
    "yazar_ortalamalari = {y: statistics.mean(satislar) for y, satislar in yazar_satis.items()}\n",
    "print(\"Yazar ortalamaları (train):\", yazar_ortalamalari)\n"
   ]
  },
  {
   "cell_type": "code",
   "execution_count": 64,
   "id": "1fb348ba-9cf0-4d30-ab74-95b86e48a73a",
   "metadata": {},
   "outputs": [
    {
     "name": "stdout",
     "output_type": "stream",
     "text": [
      "Test setinde ortalamanın üstünde olanlar: ['Veri Bilimi 101', 'Python ile Yapay Zeka']\n"
     ]
    }
   ],
   "source": [
    "# Test setinde, bu ortalamanın üzerinde olan kitapları bul\n",
    "ustunde_olan = []\n",
    "for k in test_set:\n",
    "    ort = yazar_ortalamalari.get(k[\"yazar\"], None)\n",
    "    if ort is not None and k[\"satis\"] > ort:\n",
    "        ustunde_olan.append(k[\"isim\"])\n",
    "\n",
    "print(\"Test setinde ortalamanın üstünde olanlar:\", ustunde_olan)\n"
   ]
  },
  {
   "cell_type": "code",
   "execution_count": null,
   "id": "f2d8cb2b-1837-4eac-b2d7-40077692d7b9",
   "metadata": {},
   "outputs": [],
   "source": []
  }
 ],
 "metadata": {
  "kernelspec": {
   "display_name": "Python 3 (ipykernel)",
   "language": "python",
   "name": "python3"
  },
  "language_info": {
   "codemirror_mode": {
    "name": "ipython",
    "version": 3
   },
   "file_extension": ".py",
   "mimetype": "text/x-python",
   "name": "python",
   "nbconvert_exporter": "python",
   "pygments_lexer": "ipython3",
   "version": "3.12.4"
  }
 },
 "nbformat": 4,
 "nbformat_minor": 5
}
