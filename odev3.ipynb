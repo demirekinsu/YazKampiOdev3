{
 "cells": [
  {
   "cell_type": "code",
   "execution_count": 20,
   "id": "7ec26e1f-4f88-49d7-98b9-0a894fc3a1f1",
   "metadata": {},
   "outputs": [],
   "source": [
    "# SORU 1.1"
   ]
  },
  {
   "cell_type": "code",
   "execution_count": 4,
   "id": "9b772b55-5aa8-48a1-ab48-a44175d39912",
   "metadata": {},
   "outputs": [
    {
     "name": "stdout",
     "output_type": "stream",
     "text": [
      "Benzersiz: [100, 92, 85, 76]\n"
     ]
    }
   ],
   "source": [
    "notlar = [85, 92, 76, 92, 100, 76, 85, 92]\n",
    "\n",
    "benzersiz = list(set(notlar))\n",
    "print(\"Benzersiz:\", benzersiz)\n"
   ]
  },
  {
   "cell_type": "code",
   "execution_count": 22,
   "id": "511122a6-3771-450f-969f-b4f93a793d37",
   "metadata": {},
   "outputs": [],
   "source": [
    "# SORU 1.2"
   ]
  },
  {
   "cell_type": "code",
   "execution_count": 6,
   "id": "80f1b869-a6b5-4adc-84ef-8d320fcfc75e",
   "metadata": {},
   "outputs": [
    {
     "name": "stdout",
     "output_type": "stream",
     "text": [
      "En yüksek: 100\n",
      "En düşük: 76\n"
     ]
    }
   ],
   "source": [
    "# En yüksek ve en düşük\n",
    "print(\"En yüksek:\", max(notlar))\n",
    "print(\"En düşük:\", min(notlar))"
   ]
  },
  {
   "cell_type": "code",
   "execution_count": 24,
   "id": "c10eb12d-c9fc-4296-97ba-39d4f5a9319a",
   "metadata": {},
   "outputs": [],
   "source": [
    "# SORU 1.3"
   ]
  },
  {
   "cell_type": "code",
   "execution_count": 8,
   "id": "ea24315b-2733-4629-96ff-316318ec98b0",
   "metadata": {},
   "outputs": [
    {
     "name": "stdout",
     "output_type": "stream",
     "text": [
      "Sıralı: [76, 76, 85, 85, 92, 92, 92, 100]\n"
     ]
    }
   ],
   "source": [
    "# Küçükten büyüğe sıralama\n",
    "sirali = sorted(notlar)\n",
    "print(\"Sıralı:\", sirali)"
   ]
  },
  {
   "cell_type": "code",
   "execution_count": 26,
   "id": "a3a51981-e9ba-424c-bde4-17d633431602",
   "metadata": {},
   "outputs": [],
   "source": [
    "# SORU 2"
   ]
  },
  {
   "cell_type": "code",
   "execution_count": 10,
   "id": "1eff0f3e-9bdc-4849-ba45-392df36b1f45",
   "metadata": {},
   "outputs": [
    {
     "name": "stdout",
     "output_type": "stream",
     "text": [
      "153 True\n",
      "123 False\n"
     ]
    }
   ],
   "source": [
    "def armstrong_mu(sayi):\n",
    "    basamaklar = [int(d) for d in str(sayi)]\n",
    "    toplam = sum([b**3 for b in basamaklar])\n",
    "    return toplam == sayi\n",
    "\n",
    "print(153, armstrong_mu(153))\n",
    "print(123, armstrong_mu(123))\n"
   ]
  },
  {
   "cell_type": "code",
   "execution_count": 28,
   "id": "ed135ddc-5003-4e83-b95a-e376648aea43",
   "metadata": {},
   "outputs": [],
   "source": [
    "# SORU 3"
   ]
  },
  {
   "cell_type": "code",
   "execution_count": 12,
   "id": "01453c95-2e34-43f3-9508-b4087dab1f4d",
   "metadata": {},
   "outputs": [
    {
     "name": "stdout",
     "output_type": "stream",
     "text": [
      "Ortak: {'SQL', 'Python'}\n",
      "Sadece A’da: {'Java', 'R'}\n",
      "Birleşim (alfabetik): ['C++', 'Java', 'JavaScript', 'Python', 'R', 'SQL']\n"
     ]
    }
   ],
   "source": [
    "A = {\"Python\", \"R\", \"SQL\", \"Java\"}\n",
    "B = {\"C++\", \"Python\", \"JavaScript\", \"SQL\"}\n",
    "\n",
    "print(\"Ortak:\", A & B)\n",
    "print(\"Sadece A’da:\", A - B)\n",
    "print(\"Birleşim (alfabetik):\", sorted(A | B))"
   ]
  },
  {
   "cell_type": "code",
   "execution_count": 30,
   "id": "e376f0bf-bc09-4a11-8b26-5650ac7fc60d",
   "metadata": {},
   "outputs": [],
   "source": [
    "# SORU 4"
   ]
  },
  {
   "cell_type": "code",
   "execution_count": 14,
   "id": "8d148763-2741-4073-9426-0bac357a2d78",
   "metadata": {},
   "outputs": [
    {
     "name": "stdout",
     "output_type": "stream",
     "text": [
      "Sayılar: [45, 24, 16, 53, 7, 19, 15, 44, 93, 89]\n",
      "Ortalama: 40.5\n",
      "Standart Sapma: 30.55868670825586\n"
     ]
    }
   ],
   "source": [
    "import random, statistics\n",
    "\n",
    "sayilar = [random.randint(1,100) for _ in range(10)]\n",
    "print(\"Sayılar:\", sayilar)\n",
    "print(\"Ortalama:\", statistics.mean(sayilar))\n",
    "print(\"Standart Sapma:\", statistics.stdev(sayilar))"
   ]
  },
  {
   "cell_type": "code",
   "execution_count": null,
   "id": "336c7548-9015-4e5d-ad91-39fef13799d3",
   "metadata": {},
   "outputs": [],
   "source": [
    "# SORU 5"
   ]
  },
  {
   "cell_type": "code",
   "execution_count": 36,
   "id": "1f6a26f4-18d2-4a7e-a55a-8e72bff2b227",
   "metadata": {},
   "outputs": [
    {
     "name": "stdout",
     "output_type": "stream",
     "text": [
      "(6, 'python', 'veri')\n"
     ]
    }
   ],
   "source": [
    "def kelime_sayaci(metin):\n",
    "    kelimeler = metin.split()\n",
    "    en_uzun = max(kelimeler, key=len)\n",
    "    en_sik = max(set(kelimeler), key=kelimeler.count)\n",
    "    return len(kelimeler), en_uzun, en_sik\n",
    "\n",
    "print(kelime_sayaci(\"veri bilim veri python analiz veri\"))"
   ]
  },
  {
   "cell_type": "code",
   "execution_count": null,
   "id": "81861582-6a2e-46d8-8286-781f37bbf991",
   "metadata": {},
   "outputs": [],
   "source": [
    "# SORU 6"
   ]
  },
  {
   "cell_type": "code",
   "execution_count": 38,
   "id": "790d70de-af0c-4890-bcb3-61a58834294d",
   "metadata": {},
   "outputs": [
    {
     "name": "stdout",
     "output_type": "stream",
     "text": [
      "Çiftler: [12, 18, 24, 16]\n",
      "Kareler: [144, 324, 576, 256]\n",
      "Azalan kareler: [576, 324, 256, 144]\n"
     ]
    }
   ],
   "source": [
    "sayilar = [5, 12, 7, 18, 24, 3, 16]\n",
    "\n",
    "ciftler = list(filter(lambda x: x%2==0, sayilar))\n",
    "kareler = list(map(lambda x: x**2, ciftler))\n",
    "sirali = sorted(kareler, reverse=True)\n",
    "\n",
    "print(\"Çiftler:\", ciftler)\n",
    "print(\"Kareler:\", kareler)\n",
    "print(\"Azalan kareler:\", sirali)\n"
   ]
  },
  {
   "cell_type": "code",
   "execution_count": null,
   "id": "710fd98a-11ab-45a5-b683-af47c3162edc",
   "metadata": {},
   "outputs": [],
   "source": [
    "# SORU 7"
   ]
  },
  {
   "cell_type": "code",
   "execution_count": 42,
   "id": "0eceb112-df6c-4da8-87d4-c699ba16f381",
   "metadata": {},
   "outputs": [
    {
     "name": "stdout",
     "output_type": "stream",
     "text": [
      "['veri', 'bilim', 'analiz', 'jupyter', 'yapayzeka']\n"
     ]
    }
   ],
   "source": [
    "kelimeler = [\"veri\", \"bilim\", \"analiz\", \"yapayzeka\", \"jupyter\"]\n",
    "sirali = sorted(kelimeler, key=lambda x: len(x))\n",
    "print(sirali)\n"
   ]
  },
  {
   "cell_type": "code",
   "execution_count": 44,
   "id": "9ddce61e-94c5-49b3-b0bd-45a5b003efe0",
   "metadata": {},
   "outputs": [],
   "source": [
    "# SORU 8"
   ]
  },
  {
   "cell_type": "code",
   "execution_count": 46,
   "id": "f0d5ca91-fe0d-4c34-95ac-e09b1fa8640b",
   "metadata": {},
   "outputs": [
    {
     "name": "stdout",
     "output_type": "stream",
     "text": [
      "6\n"
     ]
    }
   ],
   "source": [
    "def rakam_toplami(s):\n",
    "    rakamlar = [int(ch) for ch in s if ch.isdigit()]\n",
    "    return sum(rakamlar)\n",
    "\n",
    "print(rakam_toplami(\"abc12def3\"))\n"
   ]
  },
  {
   "cell_type": "code",
   "execution_count": 48,
   "id": "041ded8c-7a1f-45d4-af87-82510b589819",
   "metadata": {},
   "outputs": [],
   "source": [
    "# SORU 9 "
   ]
  },
  {
   "cell_type": "code",
   "execution_count": 50,
   "id": "e550078d-2b8a-4816-8418-08d5a5713cc3",
   "metadata": {},
   "outputs": [
    {
     "name": "stdout",
     "output_type": "stream",
     "text": [
      "Dizi: [ 8 37 49 24 41 18  4 31 39 15]\n",
      "Ortalama: 26.6\n",
      "Std Sapma: 14.361058456812994\n",
      "En büyük: 49\n"
     ]
    }
   ],
   "source": [
    "import numpy as np\n",
    "\n",
    "dizi = np.random.randint(0,51,10)\n",
    "print(\"Dizi:\", dizi)\n",
    "print(\"Ortalama:\", dizi.mean())\n",
    "print(\"Std Sapma:\", dizi.std())\n",
    "print(\"En büyük:\", dizi.max())\n"
   ]
  },
  {
   "cell_type": "code",
   "execution_count": 52,
   "id": "01155336-7259-473b-82e6-a03e3ea93611",
   "metadata": {},
   "outputs": [],
   "source": [
    "# SORU 10  "
   ]
  },
  {
   "cell_type": "code",
   "execution_count": 54,
   "id": "4e093f72-1048-4d1e-8c10-2e3d7d90ef14",
   "metadata": {},
   "outputs": [
    {
     "name": "stdout",
     "output_type": "stream",
     "text": [
      "Matris:\n",
      " [[0.05939244 0.94855045 0.92994602 0.01757883 0.15981079]\n",
      " [0.14593001 0.11562013 0.80414151 0.91899189 0.97840457]\n",
      " [0.83530269 0.78135623 0.07079842 0.58173825 0.50307688]\n",
      " [0.97731332 0.01172775 0.81292824 0.18122773 0.04833954]\n",
      " [0.90622795 0.04968277 0.51059119 0.68272483 0.411374  ]]\n",
      "Sütun ortalamaları: [0.58483328 0.38138747 0.62568108 0.47645231 0.42020116]\n",
      "Binary matris:\n",
      " [[0 1 1 0 0]\n",
      " [0 0 1 1 1]\n",
      " [1 1 0 1 1]\n",
      " [1 0 1 0 0]\n",
      " [1 0 1 1 0]]\n"
     ]
    }
   ],
   "source": [
    "matris = np.random.rand(5,5)\n",
    "print(\"Matris:\\n\", matris)\n",
    "print(\"Sütun ortalamaları:\", matris.mean(axis=0))\n",
    "\n",
    "binary = (matris > 0.5).astype(int)\n",
    "print(\"Binary matris:\\n\", binary)\n"
   ]
  },
  {
   "cell_type": "code",
   "execution_count": null,
   "id": "eaabe8e5-d47c-4e96-929f-1219b65ebfa6",
   "metadata": {},
   "outputs": [],
   "source": []
  }
 ],
 "metadata": {
  "kernelspec": {
   "display_name": "Python 3 (ipykernel)",
   "language": "python",
   "name": "python3"
  },
  "language_info": {
   "codemirror_mode": {
    "name": "ipython",
    "version": 3
   },
   "file_extension": ".py",
   "mimetype": "text/x-python",
   "name": "python",
   "nbconvert_exporter": "python",
   "pygments_lexer": "ipython3",
   "version": "3.12.4"
  }
 },
 "nbformat": 4,
 "nbformat_minor": 5
}
